{
 "cells": [
  {
   "cell_type": "markdown",
   "id": "c6723ba3-6a67-44fd-96f9-6dd7dfa2cede",
   "metadata": {},
   "source": [
    "# Pandas 퀴즈"
   ]
  },
  {
   "cell_type": "code",
   "execution_count": null,
   "id": "4c34955d-8ca9-4e83-bbd6-3996e4fe62df",
   "metadata": {},
   "outputs": [],
   "source": []
  }
 ],
 "metadata": {
  "kernelspec": {
   "display_name": "Python 3",
   "language": "python",
   "name": "python3"
  },
  "language_info": {
   "codemirror_mode": {
    "name": "ipython",
    "version": 3
   },
   "file_extension": ".py",
   "mimetype": "text/x-python",
   "name": "python",
   "nbconvert_exporter": "python",
   "pygments_lexer": "ipython3",
   "version": "3.8.8"
  }
 },
 "nbformat": 4,
 "nbformat_minor": 5
}
